{
 "cells": [
  {
   "cell_type": "code",
   "execution_count": 1,
   "id": "0d0fad97-ff62-434f-a61a-067997ad4420",
   "metadata": {},
   "outputs": [],
   "source": [
    "import gizmo_analysis as gizmo  # rename these packages for brevity\n",
    "import utilities as ut  # rename these packages for brevity\n",
    "\n",
    "import numpy as np\n",
    "\n",
    "%matplotlib inline\n",
    "import matplotlib.pyplot as plt\n",
    "import matplotlib\n",
    "\n",
    "from astropy import units as u\n",
    "from astropy import constants as cst\n",
    "\n",
    "# from aqn import *\n",
    "# from constants import *\n",
    "import pickle\n",
    "import scipy.stats as stats\n",
    "\n",
    "from scipy.stats import bootstrap\n",
    "\n",
    "# from fit_FIRE_cubes_functions import *\n",
    "from mcmc_models import *\n",
    "\n",
    "import emcee\n",
    "from multiprocessing import Pool,cpu_count\n",
    "import corner"
   ]
  },
  {
   "cell_type": "code",
   "execution_count": null,
   "id": "76a6fdcb-553c-4159-9887-88e82649c43b",
   "metadata": {},
   "outputs": [],
   "source": []
  },
  {
   "cell_type": "code",
   "execution_count": null,
   "id": "6a33bd10-bf3a-43bd-964e-33a6dfcfd0b2",
   "metadata": {},
   "outputs": [],
   "source": [
    "def plot_distribution(func, R, parameters, name, log=True, velocity=False, temperature=False):\n",
    "    plt.figure(dpi=300)\n",
    "    plt.plot(R, func(R, parameters))\n",
    "    # plt.plot(R_outer, rho_c_burkert_quad(R_outer.value, vh*10, r0*1.4))\n",
    "    plt.title(\"Density Distribution, \"+str(name))\n",
    "    plt.xlabel(\"R [kpc]\", size=20)\n",
    "    plt.ylabel(r'$\\rho$'+\"  [kg$\\cdot$m$^{-3}$]\", size = 20)\n",
    "    if log:\n",
    "        plt.yscale('log')\n",
    "    if velocity:\n",
    "        plt.ylabel(r'$\\Delta v$'+\"  [m$\\cdot$s$^{-1}$]\", size = 20)\n",
    "    if temperature:\n",
    "        plt.ylabel(r'$T$'+\" [K]\", size=20)\n",
    "        \n",
    "    # plt.savefig(\"../visuals/FIRE-MCMC-\"+quant+\"-\"+model_name+\"-fit.png\", bbox_inches='tight')\n",
    "    # plt.savefig(\"../visuals/FIRE-MCMC-\"+quant+\"-\"+model_name+\"-fit.svg\", bbox_inches='tight')\n",
    "    plt.show()\n"
   ]
  },
  {
   "cell_type": "code",
   "execution_count": null,
   "id": "ecdc13a5-181f-4d5c-a423-ff451dad08e9",
   "metadata": {},
   "outputs": [],
   "source": []
  },
  {
   "cell_type": "code",
   "execution_count": null,
   "id": "7a296174-97fa-4df7-89b0-15550187b5e1",
   "metadata": {},
   "outputs": [],
   "source": []
  },
  {
   "cell_type": "code",
   "execution_count": null,
   "id": "1cc89560-48c4-40cc-80d4-148e3a49185c",
   "metadata": {},
   "outputs": [],
   "source": []
  },
  {
   "cell_type": "code",
   "execution_count": null,
   "id": "6f698d75-0081-450f-9489-f51d9c550423",
   "metadata": {},
   "outputs": [],
   "source": [
    "########### Generalized NFW Profile #################################\n",
    "def rho_dark_mat(R, parameters):\n",
    "    rho_s, r_s, alpha, beta, gamma = parameters\n",
    "        \n",
    "    R_kpc   = R  * u.kpc\n",
    "    rho_s_msol_kpc3 = rho_s * u.solMass / u.kpc**3 * 1e7\n",
    "    r_s_kpc = r_s * u.kpc\n",
    "    \n",
    "    rho_s_kg_m3 = (rho_s_msol_kpc3).to(u.kg/u.m**3)\n",
    "    \n",
    "    return (( (2**((beta - gamma)/alpha)) * rho_s_kg_m3 ) / ( (R_kpc/r_s_kpc)**gamma * (1+(R_kpc/r_s_kpc)**alpha)**((beta - gamma)/alpha)  )).value\n",
    "\n",
    "# $v_h$ [km$\\cdot$(100s)$^{-1}$] = 3.3748557327868247 +- 0.0007224430100716527\n",
    "# $r_0$ [kpc] = 3.6323001851347905 +- 0.006999449554973593"
   ]
  },
  {
   "cell_type": "code",
   "execution_count": null,
   "id": "dc1812fe-6e34-452a-bfb8-cfbe784f6706",
   "metadata": {},
   "outputs": [],
   "source": [
    "def rho_ioni_gas(x, parameters):\n",
    "    a1, b1, c1 = parameters[0]*1e-23, parameters[1]*10, parameters[2] \n",
    "    a2, b2, c2 = parameters[3]*1e-23, parameters[4], parameters[5]\n",
    "    a3         = parameters[6]*1e-24\n",
    "    \n",
    "    ret = a1 / (1+(x/b1)**2)**c1 + \\\n",
    "          a2 / (1+(x/b2)**2)**c2 + \\\n",
    "          a3\n",
    "    \n",
    "    return ret\n",
    "\n",
    "# $a_1$ = 6.521713155920115 +- 0.1421848395197518\n",
    "# $a_2$ = 0.2940077939925656 +- 0.00530334922788834\n",
    "# $b_1$ = 29.072973590609415 +- 0.8640322865879939\n",
    "# $b_2$ = 1.6812716453492722 +- 0.00812535252120406\n",
    "# $c_1$ = 3.9044895415071528 +- 0.02812469134111113\n",
    "# $c_2$ = 3.4656473013927394 +- 0.02927658626511007\n",
    "# $a_3$ = 1.43427732961435 +- 0.0006910962557393511"
   ]
  },
  {
   "cell_type": "code",
   "execution_count": null,
   "id": "cbcdeea4-4609-43fc-a242-1b75e870309a",
   "metadata": {},
   "outputs": [],
   "source": []
  },
  {
   "cell_type": "code",
   "execution_count": null,
   "id": "f4c6ebd0-0242-4524-b26f-702ace22f072",
   "metadata": {},
   "outputs": [],
   "source": [
    "def rho_neut_gas(x, parameters):\n",
    "    a1, b1, c1 = parameters[0]*1e-21, parameters[1], parameters[2] \n",
    "    a2, b2, c2 = parameters[3]*1e-21, parameters[4], parameters[5]\n",
    "    a3         = parameters[6]*1e-24\n",
    "    \n",
    "    ret = a1 / (1+(x/b1)**2)**c1 + \\\n",
    "          a2 / (1+(x/b2)**2)**c2 + \\\n",
    "          a3\n",
    "    \n",
    "    return ret\n",
    "\n",
    "# $a_1$ = 8.97656111186945 +- 2.122373806714611\n",
    "# $a_2$ = 2.213270305404448 +- 0.8432595656616187\n",
    "# $b_1$ = 13.875013340031673 +- 6.871059801546976\n",
    "# $b_2$ = 1.5018739204854163 +- 0.18611431393808028\n",
    "# $c_1$ = 2.58047607932149 +- 0.2766151150009187\n",
    "# $c_2$ = 1.1680782169590678 +- 0.045827214261955844\n",
    "# $a_3$ = 29.693878727525025 +- 0.35916679889909797"
   ]
  },
  {
   "cell_type": "code",
   "execution_count": null,
   "id": "810a9b21-92f0-4c69-9742-86ba131336f8",
   "metadata": {},
   "outputs": [],
   "source": []
  },
  {
   "cell_type": "code",
   "execution_count": null,
   "id": "cd047b93-8c1d-46aa-acb6-5d309c7b8e1f",
   "metadata": {},
   "outputs": [],
   "source": []
  },
  {
   "cell_type": "code",
   "execution_count": null,
   "id": "d232acfe-64a7-4673-a049-b777d8ef87ff",
   "metadata": {},
   "outputs": [],
   "source": [
    "def rho_dv_ioni(x, parameters):\n",
    "    a1, b1, c1 = parameters[0]*1e5, parameters[1]*10, parameters[2]*10 \n",
    "    a2, b2, c2 = parameters[3]*1e5, parameters[4], parameters[5]\n",
    "    a3         = parameters[6]*1e5\n",
    "    \n",
    "    ret = a1 / (1+(x/b1)**2)**c1 + \\\n",
    "          a2 / (1+(x/b2)**2)**c2 + \\\n",
    "          a3\n",
    "    \n",
    "    return ret\n",
    "\n",
    "# $a_1$ = 0.7594266933349966 +- 0.04657367182668136\n",
    "# $a_2$ = 2.73608605904013 +- 0.4119655159177374\n",
    "# $b_1$ = 2.5582050186794847 +- 0.9878666363827531\n",
    "# $b_2$ = 1.004084602553337 +- 0.16233240935020687\n",
    "# $c_1$ = 1.6631635389592465 +- 0.5006327879661947\n",
    "# $c_2$ = 17.152525652652074 +- 8.324355925339894\n",
    "# $a_3$ = 2.7163675354935055 +- 0.14398919053081505"
   ]
  },
  {
   "cell_type": "code",
   "execution_count": null,
   "id": "5ccb3fb0-d402-4827-8a9e-53503c0c3cb8",
   "metadata": {},
   "outputs": [],
   "source": []
  },
  {
   "cell_type": "code",
   "execution_count": null,
   "id": "4db2e905-a63f-4968-ba5e-5f8dc4866801",
   "metadata": {},
   "outputs": [],
   "source": [
    "def rho_dv_neut(x, parameters):\n",
    "    a1, b1, c1 = parameters[0]*1e5, parameters[1]*1e2, parameters[2]*1e2 \n",
    "    a2         = parameters[3]*1e5\n",
    "    \n",
    "    ret = a1 / (1+(x/b1)**2)**c1 + \\\n",
    "          a2\n",
    "    \n",
    "    return ret\n",
    "\n",
    "# $a_1$ = 0.7817275122369671 +- 0.0804241495840021\n",
    "# $b_1$ = 1.4514477940369448 +- 0.4148690807977011\n",
    "# $c_1$ = 7.670255389377027 +- 4.431374895538939\n",
    "# $a_2$ = 2.7444837892336853 +- 0.1308799874450566"
   ]
  },
  {
   "cell_type": "code",
   "execution_count": null,
   "id": "b78a212e-4589-4eed-a334-48b5d5289898",
   "metadata": {},
   "outputs": [],
   "source": [
    "def rho_temp(x, parameters):\n",
    "    a1, b1, c1 = parameters[0]*1e7, parameters[1], parameters[2]\n",
    "    a2, d2     = parameters[3]*1e7, parameters[4]\n",
    "    a3         = parameters[5]*1e7\n",
    "    \n",
    "    ret = a1 / (1+(x/b1)**2)**c1 + \\\n",
    "          a2 * np.tanh(x-d2) + a3\n",
    "    \n",
    "    return ret"
   ]
  },
  {
   "cell_type": "code",
   "execution_count": null,
   "id": "435e3388-ff26-4846-906e-36bb91987c68",
   "metadata": {},
   "outputs": [],
   "source": [
    "R = np.arange(0.01,10,0.01)\n",
    "plot_distribution(rho_dark_mat, R, [19.60758081904341, 1.081829387522867, \n",
    "                                    2.207828893849368, 1.831142772499595, \n",
    "                                    0.06711443461154958], \"Dark Matter\")\n",
    "\n",
    "# Note: for UV, use:\n",
    "# [19.10758081904341, 1.081829387522867, \n",
    "# 2.207828893849368, 1.831142772499595, \n",
    "# 0.06711443461154958]\n",
    "\n",
    "plot_distribution(rho_ioni_gas, R, [6.521713155920115 , 0.2940077939925656, \n",
    "                                    29.072973590609415, 1.6812716453492722, \n",
    "                                    3.9044895415071528, 3.4656473013927394, \n",
    "                                    1.43427732961435], \"Ionized Gas\", log=False)\n",
    "\n",
    "plot_distribution(rho_neut_gas, R, [8.97656111186945  ,2.213270305404448 ,\n",
    "                                    13.875013340031673,1.5018739204854163,\n",
    "                                    2.58047607932149  ,1.1680782169590678,29.693878727525025], \"Neutral Gas\")\n",
    "\n",
    "plot_distribution(rho_dv_ioni, R, [0.7594266933349966, 2.73608605904013, \n",
    "                                     2.5582050186794847, 1.004084602553337, \n",
    "                                     1.6631635389592465, 17.152525652652074, \n",
    "                                     2.7163675354935055], r\"Ionized Gas $\\Delta v$\", log=True, velocity=True)\n",
    "\n",
    "plot_distribution(rho_dv_neut, R, [0.7817275122369671, 1.4514477940369448, \n",
    "                                     7.670255389377027 , \n",
    "                                     2.7444837892336853], r\"Neutral Gas $\\Delta v$\", log=True, velocity=True)\n",
    "\n",
    "plot_distribution(rho_temp, R, [6.14, 0.3, 1.5, 0.1, 3.3, 0.1], r\"Ionized Gas Temperature\", log=True, velocity=False, \n",
    "                  temperature=True)"
   ]
  },
  {
   "cell_type": "code",
   "execution_count": null,
   "id": "0f19ddbc-468a-48d6-837e-50f0194482ef",
   "metadata": {},
   "outputs": [],
   "source": []
  },
  {
   "cell_type": "code",
   "execution_count": null,
   "id": "d7871f53-eae0-413b-a9a3-f4f56d2811c9",
   "metadata": {},
   "outputs": [],
   "source": []
  },
  {
   "cell_type": "code",
   "execution_count": null,
   "id": "54d5ea80-8661-4a6b-b010-25513d163db0",
   "metadata": {},
   "outputs": [],
   "source": []
  },
  {
   "cell_type": "code",
   "execution_count": null,
   "id": "dfc1fabd-f408-4179-a398-b52996bfc61a",
   "metadata": {},
   "outputs": [],
   "source": []
  },
  {
   "cell_type": "code",
   "execution_count": null,
   "id": "fb509f6b-8adb-4488-a7e1-85cd4f5b9011",
   "metadata": {},
   "outputs": [],
   "source": []
  },
  {
   "cell_type": "code",
   "execution_count": null,
   "id": "a683e4f5-b301-489c-abcc-41e81746d55f",
   "metadata": {},
   "outputs": [],
   "source": []
  },
  {
   "cell_type": "code",
   "execution_count": null,
   "id": "26df7d32-bb6d-4bb4-83dc-7ca7b7a8b0dc",
   "metadata": {},
   "outputs": [],
   "source": []
  },
  {
   "cell_type": "code",
   "execution_count": null,
   "id": "f49fa480-b2dd-45f1-9d54-6e1165f3512b",
   "metadata": {},
   "outputs": [],
   "source": []
  }
 ],
 "metadata": {
  "kernelspec": {
   "display_name": "Python 3 (ipykernel)",
   "language": "python",
   "name": "python3"
  },
  "language_info": {
   "codemirror_mode": {
    "name": "ipython",
    "version": 3
   },
   "file_extension": ".py",
   "mimetype": "text/x-python",
   "name": "python",
   "nbconvert_exporter": "python",
   "pygments_lexer": "ipython3",
   "version": "3.11.8"
  }
 },
 "nbformat": 4,
 "nbformat_minor": 5
}
