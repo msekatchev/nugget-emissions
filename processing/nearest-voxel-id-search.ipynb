{
 "cells": [
  {
   "cell_type": "code",
   "execution_count": 2,
   "id": "04a537eb-5ab3-4a1f-a53a-1e3b0d5d21a5",
   "metadata": {
    "execution": {
     "iopub.execute_input": "2024-01-08T23:11:18.418189Z",
     "iopub.status.busy": "2024-01-08T23:11:18.417464Z",
     "iopub.status.idle": "2024-01-08T23:11:50.917539Z",
     "shell.execute_reply": "2024-01-08T23:11:50.901518Z",
     "shell.execute_reply.started": "2024-01-08T23:11:18.418118Z"
    }
   },
   "outputs": [
    {
     "name": "stdout",
     "output_type": "stream",
     "text": [
      ">> loaded in voxel grid coordinates from ../data/FIRE/grid-coords.npy\n",
      ">> loaded in non-empty voxel coordinates from ../data/FIRE/non-empty-coords-dark_mat.npy\n",
      ">> dark_mat\n"
     ]
    }
   ],
   "source": [
    "import numpy as np\n",
    "from scipy.spatial import distance\n",
    "from concurrent.futures import ThreadPoolExecutor\n",
    "import concurrent.futures\n",
    "import sys\n",
    "\n",
    "name = \"dark_mat\"\n",
    "\n",
    "location_grid_coords = \"../data/FIRE/grid-coords.npy\"\n",
    "location_non_empty_voxel_coords = \"../data/FIRE/non-empty-coords-\"+name+\".npy\"\n",
    "# name = location_non_empty_voxel_coords[30:][0:location_non_empty_voxel_coords[30:].rfind(\".\")]\n",
    "location_save_grid_ids = \"../data/FIRE/grid-ids--\"+name+\".npy\"\n",
    "\n",
    "grid_c = np.load(location_grid_coords)\n",
    "print(f\">> loaded in voxel grid coordinates from {location_grid_coords}\")\n",
    "\n",
    "non_empty_points = np.load(location_non_empty_voxel_coords)\n",
    "print(f\">> loaded in non-empty voxel coordinates from {location_non_empty_voxel_coords}\")\n",
    "\n",
    "print(f\">> {name}\")\n",
    "\n"
   ]
  },
  {
   "cell_type": "code",
   "execution_count": 46,
   "id": "dfa0a7f9-2198-48db-9ff5-5e9459a09f61",
   "metadata": {
    "execution": {
     "iopub.execute_input": "2024-01-08T23:38:19.834516Z",
     "iopub.status.busy": "2024-01-08T23:38:19.833181Z",
     "iopub.status.idle": "2024-01-08T23:38:19.952032Z",
     "shell.execute_reply": "2024-01-08T23:38:19.950961Z",
     "shell.execute_reply.started": "2024-01-08T23:38:19.834403Z"
    }
   },
   "outputs": [
    {
     "name": "stdout",
     "output_type": "stream",
     "text": [
      "[[ 4.84375     6.8359375  11.8359375   3.12524413  6.32824556]\n",
      " [ 4.8046875   6.796875   11.796875    3.08618472  6.28918381]\n",
      " [ 4.765625    6.7578125  11.7578125   3.04712539  6.25012207]\n",
      " [ 4.7265625   6.71875    11.71875     3.00806614  6.21106034]\n",
      " [ 4.6875      6.6796875  11.6796875   2.96900698  6.17199861]\n",
      " [ 4.6484375   6.640625   11.640625    2.92994791  6.1329369 ]\n",
      " [ 4.609375    6.6015625  11.6015625   2.89088892  6.0938752 ]\n",
      " [ 4.5703125   6.5625     11.5625      2.85183004  6.05481351]\n",
      " [ 4.53125     6.5234375  11.5234375   2.81277125  6.01575182]\n",
      " [ 4.4921875   6.484375   11.484375    2.77371257  5.97669015]]\n",
      "[3.12524413 3.08618472 3.04712539 3.00806614 2.96900698 2.92994791\n",
      " 2.89088892 2.85183004 2.81277125 2.77371257]\n",
      "[3 3 3 3 3 3 3 3 3 3]\n",
      "----------------\n",
      "[[12.6953726  13.75005549 17.81254283  6.99262394 10.58622578]\n",
      " [12.65631028 13.71099314 17.77348043  6.95356389 10.54716435]\n",
      " [12.61724797 13.6719308  17.73441802  6.91450387 10.50810292]\n",
      " [12.57818566 13.63286846 17.69535562  6.87544388 10.46904151]\n",
      " [12.53912334 13.59380612 17.65629321  6.83638391 10.4299801 ]\n",
      " [12.50006104 13.55474379 17.61723081  6.79732398 10.3909187 ]\n",
      " [12.46099873 13.51568145 17.5781684   6.75826407 10.35185731]\n",
      " [12.42193642 13.47661911 17.539106    6.7192042  10.31279592]\n",
      " [12.38287411 13.43755678 17.5000436   6.68014436 10.27373455]\n",
      " [12.34381181 13.39849444 17.46098119  6.64108454 10.23467318]]\n",
      "[3 3 3 3 3 3 3 3 3 3]\n",
      "[]\n",
      "[]\n"
     ]
    }
   ],
   "source": [
    "start = 10\n",
    "end = 20\n",
    "\n",
    "\n",
    "points_offset_index = 0\n",
    "distances = distance.cdist(grid_c[start:end], non_empty_points[points_offset_index:points_offset_index+5])\n",
    "current_minimum_distances = np.min(distances, axis=1)\n",
    "current_minimum_indexes = np.argmin(distances, axis=1) + points_offset_index\n",
    "\n",
    "print(distances)\n",
    "print(current_minimum_distances)\n",
    "print(current_minimum_indexes)\n",
    "\n",
    "print(\"----------------\")\n",
    "\n",
    "points_offset_index = points_offset_index + 5\n",
    "distances = distance.cdist(grid_c[start:end], non_empty_points[points_offset_index:points_offset_index+5])\n",
    "proposed_minimum_distances = np.min(distances, axis=1)\n",
    "proposed_minimum_indexes = np.argmin(distances, axis=1) + points_offset_index\n",
    "\n",
    "new_minimum_distances_boolean = proposed_minimum_distances < current_minimum_distances\n",
    "\n",
    "current_minimum_distances[new_minimum_distances_boolean] = proposed_minimum_distances[new_minimum_distances_boolean]\n",
    "current_minimum_indexes[new_minimum_distances_boolean] = proposed_minimum_indexes[new_minimum_distances_boolean]\n",
    "\n",
    "\n",
    "\n",
    "print(distances)\n",
    "print(current_minimum_indexes)\n",
    "# print(proposed_minimum_distances)\n",
    "\n",
    "print(current_minimum_indexes[proposed_minimum_distances < current_minimum_distances])\n",
    "\n",
    "\n",
    "\n",
    "print(np.argmin(distances, axis=1)[proposed_minimum_distances < current_minimum_distances] + points_offset_index)"
   ]
  },
  {
   "cell_type": "code",
   "execution_count": null,
   "id": "4242a6a5-5f06-4a55-8317-0f89a69ccbf2",
   "metadata": {},
   "outputs": [],
   "source": [
    "\n",
    "def process_interval(start, end, points_offset_start, points_offset_end):\n",
    "    \n",
    "    offset_index = points_offset_start\n",
    "    distances = distance.cdist(grid_c[start:end], non_empty_points[points_offset_index:points_offset_index+5])\n",
    "    proposed_minimum_distances = np.min(distances, axis=1)"
   ]
  },
  {
   "cell_type": "code",
   "execution_count": 47,
   "id": "f4ba07fe-d36b-48cb-878b-f8a8a2ed7529",
   "metadata": {
    "execution": {
     "iopub.execute_input": "2024-01-08T23:59:58.539753Z",
     "iopub.status.busy": "2024-01-08T23:59:58.528353Z",
     "iopub.status.idle": "2024-01-08T23:59:58.825653Z",
     "shell.execute_reply": "2024-01-08T23:59:58.800868Z",
     "shell.execute_reply.started": "2024-01-08T23:59:58.539329Z"
    }
   },
   "outputs": [],
   "source": [
    "# distances"
   ]
  },
  {
   "cell_type": "code",
   "execution_count": 48,
   "id": "9bc5625a-8d87-4ad4-9cda-6f22008b66e1",
   "metadata": {
    "execution": {
     "iopub.execute_input": "2024-01-09T00:00:03.005707Z",
     "iopub.status.busy": "2024-01-09T00:00:03.004341Z",
     "iopub.status.idle": "2024-01-09T00:00:03.134747Z",
     "shell.execute_reply": "2024-01-09T00:00:03.047315Z",
     "shell.execute_reply.started": "2024-01-09T00:00:03.005578Z"
    }
   },
   "outputs": [],
   "source": [
    "# np.argmin(distances, axis=1)"
   ]
  },
  {
   "cell_type": "code",
   "execution_count": 49,
   "id": "1e2cd15f-2901-4063-bee8-62bd3d11953d",
   "metadata": {
    "execution": {
     "iopub.execute_input": "2024-01-09T00:00:04.554056Z",
     "iopub.status.busy": "2024-01-09T00:00:04.553324Z",
     "iopub.status.idle": "2024-01-09T00:00:04.812728Z",
     "shell.execute_reply": "2024-01-09T00:00:04.737859Z",
     "shell.execute_reply.started": "2024-01-09T00:00:04.554002Z"
    }
   },
   "outputs": [],
   "source": [
    "# np.min(distance.cdist(grid_c[start:end], non_empty_points[0:9]), axis=1)"
   ]
  },
  {
   "cell_type": "code",
   "execution_count": 4,
   "id": "de14be43-71c7-44f5-ab3b-7a22d610a928",
   "metadata": {
    "execution": {
     "iopub.execute_input": "2024-01-08T23:13:11.113056Z",
     "iopub.status.busy": "2024-01-08T23:13:11.112189Z",
     "iopub.status.idle": "2024-01-08T23:13:11.153995Z",
     "shell.execute_reply": "2024-01-08T23:13:11.152272Z",
     "shell.execute_reply.started": "2024-01-08T23:13:11.112984Z"
    }
   },
   "outputs": [],
   "source": [
    "# Parameters\n",
    "batch_size = 100\n",
    "\n",
    "# Function to calculate distances and update grid_ids for a given interval\n",
    "def process_interval(start, end):\n",
    "    grid_ids[start:end] = np.argmin(distance.cdist(grid_c[start:end], non_empty_points), axis=1)\n",
    "\n",
    "# Create an array to store grid_ids\n",
    "grid_ids = np.empty(len(grid_c), dtype=int)\n",
    "\n",
    "# Create batches\n",
    "batch_counter = np.arange(batch_size, len(grid_c), batch_size)\n",
    "batch_counter[-1] = len(grid_c)"
   ]
  },
  {
   "cell_type": "code",
   "execution_count": 18,
   "id": "8fcd2b19-3617-4933-a624-d5e944d76a28",
   "metadata": {
    "execution": {
     "iopub.execute_input": "2024-01-08T23:21:57.846928Z",
     "iopub.status.busy": "2024-01-08T23:21:57.845946Z",
     "iopub.status.idle": "2024-01-08T23:21:57.925057Z",
     "shell.execute_reply": "2024-01-08T23:21:57.919501Z",
     "shell.execute_reply.started": "2024-01-08T23:21:57.846826Z"
    }
   },
   "outputs": [
    {
     "data": {
      "text/plain": [
       "array([7, 7, 7, 7, 7, 7, 7, 7, 7, 7, 7, 7, 7, 7, 7, 7, 7, 7, 7, 7, 7, 7,\n",
       "       7, 7, 7, 7, 7, 7, 7, 7, 7, 7, 7, 7, 7, 7, 7, 7, 7, 7, 7, 7, 7, 7,\n",
       "       7, 7, 7, 7, 7, 7, 7, 7, 7, 7, 7, 7, 4, 4, 4, 4, 4, 4, 4, 4, 4, 4,\n",
       "       4, 4, 4, 4, 4, 4, 4, 4, 4, 4, 4, 4, 4, 4, 4, 4, 4, 4, 4, 4, 4, 4,\n",
       "       4, 4, 4, 4, 4, 4, 4, 4, 4, 4, 4, 4])"
      ]
     },
     "execution_count": 18,
     "metadata": {},
     "output_type": "execute_result"
    }
   ],
   "source": [
    "\n",
    "\n",
    "np.argmin(distance.cdist(grid_c[start:end], non_empty_points[9:20]), axis=1)"
   ]
  },
  {
   "cell_type": "code",
   "execution_count": 12,
   "id": "691092c3-5350-4235-b3f4-39d8af1f15c1",
   "metadata": {
    "execution": {
     "iopub.execute_input": "2024-01-08T23:15:39.714336Z",
     "iopub.status.busy": "2024-01-08T23:15:39.713482Z",
     "iopub.status.idle": "2024-01-08T23:15:39.810566Z",
     "shell.execute_reply": "2024-01-08T23:15:39.808250Z",
     "shell.execute_reply.started": "2024-01-08T23:15:39.714264Z"
    }
   },
   "outputs": [],
   "source": [
    "# for interval_min, interval_max in zip([0] + list(batch_counter), batch_counter):\n",
    "#     print(interval_min, interval_max)"
   ]
  },
  {
   "cell_type": "code",
   "execution_count": null,
   "id": "a6c4899e-1117-4027-bd7f-59060d6c39a3",
   "metadata": {},
   "outputs": [],
   "source": [
    "\n",
    "\n",
    "# Process batches concurrently\n",
    "with ThreadPoolExecutor() as executor:\n",
    "    futures = {executor.submit(process_interval, interval_min, interval_max): (interval_min, interval_max)\n",
    "               for interval_min, interval_max in zip([0] + list(batch_counter), batch_counter)}\n",
    "\n",
    "    for future in concurrent.futures.as_completed(futures):\n",
    "        interval_min, interval_max = futures[future]\n",
    "        print(f\"Working on batch [{interval_min}-{interval_max}] out of {len(grid_c)}, so {interval_max/len(grid_c)*100}% done.\", end=\"\\r\")\n",
    "        # print(f\"Processed interval [{interval_min}:{interval_max}]\")\n",
    "\n",
    "\n",
    "np.save(location_save_grid_ids, grid_ids)\n"
   ]
  }
 ],
 "metadata": {
  "kernelspec": {
   "display_name": "Python 3 (ipykernel)",
   "language": "python",
   "name": "python3"
  },
  "language_info": {
   "codemirror_mode": {
    "name": "ipython",
    "version": 3
   },
   "file_extension": ".py",
   "mimetype": "text/x-python",
   "name": "python",
   "nbconvert_exporter": "python",
   "pygments_lexer": "ipython3",
   "version": "3.10.13"
  }
 },
 "nbformat": 4,
 "nbformat_minor": 5
}
