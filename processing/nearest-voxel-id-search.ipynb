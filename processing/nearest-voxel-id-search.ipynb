{
 "cells": [
  {
   "cell_type": "code",
   "execution_count": 1,
   "id": "04a537eb-5ab3-4a1f-a53a-1e3b0d5d21a5",
   "metadata": {
    "execution": {
     "iopub.execute_input": "2024-01-16T08:38:31.003624Z",
     "iopub.status.busy": "2024-01-16T08:38:31.003003Z",
     "iopub.status.idle": "2024-01-16T08:38:50.500760Z",
     "shell.execute_reply": "2024-01-16T08:38:50.433506Z",
     "shell.execute_reply.started": "2024-01-16T08:38:31.003585Z"
    },
    "scrolled": true
   },
   "outputs": [
    {
     "name": "stdout",
     "output_type": "stream",
     "text": [
      ">> loading in voxel grid coordinates...\n",
      ">> loaded in voxel grid coordinates from ../data/FIRE/grid-coords.npy\n",
      ">> loading in non-empty voxel coordinates...\n",
      ">> loaded in non-empty voxel coordinates from ../data/FIRE/non-empty-coords-ioni_gas.npy\n",
      ">> ioni_gas\n"
     ]
    }
   ],
   "source": [
    "import numpy as np\n",
    "from scipy.spatial import distance\n",
    "from concurrent.futures import ThreadPoolExecutor\n",
    "import concurrent.futures\n",
    "import sys\n",
    "from itertools import product\n",
    "\n",
    "name = \"ioni_gas\"\n",
    "\n",
    "location_grid_coords = \"../data/FIRE/grid-coords.npy\"\n",
    "location_non_empty_voxel_coords = \"../data/FIRE/non-empty-coords-\"+name+\".npy\"\n",
    "# name = location_non_empty_voxel_coords[30:][0:location_non_empty_voxel_coords[30:].rfind(\".\")]\n",
    "location_save_grid_ids = \"../data/FIRE/grid-ids--\"+name+\".npy\"\n",
    "\n",
    "print(f\">> loading in voxel grid coordinates...\")\n",
    "grid_c = np.load(location_grid_coords)\n",
    "print(f\">> loaded in voxel grid coordinates from {location_grid_coords}\")\n",
    "\n",
    "print(f\">> loading in non-empty voxel coordinates...\")\n",
    "non_empty_points = np.load(location_non_empty_voxel_coords)\n",
    "non_empty_points_length = len(non_empty_points)\n",
    "print(f\">> loaded in non-empty voxel coordinates from {location_non_empty_voxel_coords}\")\n",
    "\n",
    "print(f\">> {name}\")"
   ]
  },
  {
   "cell_type": "code",
   "execution_count": 2,
   "id": "4242a6a5-5f06-4a55-8317-0f89a69ccbf2",
   "metadata": {
    "execution": {
     "iopub.execute_input": "2024-01-16T08:38:54.514441Z",
     "iopub.status.busy": "2024-01-16T08:38:54.513790Z",
     "iopub.status.idle": "2024-01-16T08:38:58.945478Z",
     "shell.execute_reply": "2024-01-16T08:38:58.911592Z",
     "shell.execute_reply.started": "2024-01-16T08:38:54.514392Z"
    }
   },
   "outputs": [],
   "source": [
    "current_min_distances = np.ones(len(grid_c), dtype=int) * 20**10\n",
    "grid_ids = np.empty(len(grid_c), dtype=int)\n",
    "\n",
    "def process_interval(indexes):\n",
    "    start, end, points_offset_start, points_offset_end = indexes[0][0], indexes[0][1], indexes[1][0], indexes[1][1]\n",
    "    print(f\">> grid batch: [{start} - {end}] \\t point batch: [{points_offset_start} - {points_offset_end}]\", end=\"\\r\")\n",
    "    # calculate all of the distances between this batch of grid points and filled voxel points\n",
    "    distances = distance.cdist(grid_c[start:end], non_empty_points[points_offset_start:points_offset_end])\n",
    "    # identify the nearest voxels to each grid point\n",
    "    proposed_min_distances = np.min(distances, axis=1)\n",
    "    proposed_min_ids = np.argmin(distances, axis=1) + points_offset_start\n",
    "\n",
    "    improved_indexes = proposed_min_distances<current_min_distances[start:end]\n",
    "    \n",
    "    current_min_distances[start:end][improved_indexes] = proposed_min_distances[improved_indexes]\n",
    "    grid_ids[start:end][improved_indexes] = proposed_min_ids[improved_indexes]"
   ]
  },
  {
   "cell_type": "code",
   "execution_count": 5,
   "id": "00845c09-dfb1-4d36-965a-32bf62a9a662",
   "metadata": {
    "execution": {
     "iopub.execute_input": "2024-01-16T08:39:52.628049Z",
     "iopub.status.busy": "2024-01-16T08:39:52.627178Z",
     "iopub.status.idle": "2024-01-16T08:44:37.951246Z",
     "shell.execute_reply": "2024-01-16T08:44:37.934461Z",
     "shell.execute_reply.started": "2024-01-16T08:39:52.627979Z"
    }
   },
   "outputs": [],
   "source": [
    "from scipy.spatial import cKDTree\n",
    "# t0 = timeit.default_timer()\n",
    "tree_points = cKDTree(non_empty_points)\n",
    "indices = tree_points.query(grid_c)[1]\n",
    "# tf = timeit.default_timer()\n",
    "# print(tf - t0)"
   ]
  },
  {
   "cell_type": "code",
   "execution_count": 21,
   "id": "a7acb87e-2c0d-4c8a-b7df-2de01aa60e1f",
   "metadata": {
    "execution": {
     "iopub.execute_input": "2024-01-16T08:52:44.014159Z",
     "iopub.status.busy": "2024-01-16T08:52:44.013347Z",
     "iopub.status.idle": "2024-01-16T08:52:53.641601Z",
     "shell.execute_reply": "2024-01-16T08:52:53.606582Z",
     "shell.execute_reply.started": "2024-01-16T08:52:44.014115Z"
    }
   },
   "outputs": [],
   "source": [
    "np.save(\"../data/FIRE/grid-ids--ioni_gas-cKDTree.npy\", indices)"
   ]
  },
  {
   "cell_type": "code",
   "execution_count": 20,
   "id": "10147bf4-0ef1-4a58-b93d-17adedc8f87b",
   "metadata": {
    "execution": {
     "iopub.execute_input": "2024-01-16T08:51:47.527252Z",
     "iopub.status.busy": "2024-01-16T08:51:47.526474Z",
     "iopub.status.idle": "2024-01-16T08:52:15.605385Z",
     "shell.execute_reply": "2024-01-16T08:52:15.600607Z",
     "shell.execute_reply.started": "2024-01-16T08:51:47.527185Z"
    }
   },
   "outputs": [
    {
     "data": {
      "text/plain": [
       "-32739.53125"
      ]
     },
     "execution_count": 20,
     "metadata": {},
     "output_type": "execute_result"
    }
   ],
   "source": [
    "np.sum(grid_c[indices] - grid_c[grid_ids])"
   ]
  },
  {
   "cell_type": "code",
   "execution_count": 9,
   "id": "a0d250c3-3af5-4c8c-be9d-dfd274a115b0",
   "metadata": {
    "execution": {
     "iopub.execute_input": "2024-01-16T08:47:07.320276Z",
     "iopub.status.busy": "2024-01-16T08:47:07.319636Z",
     "iopub.status.idle": "2024-01-16T08:47:14.309485Z",
     "shell.execute_reply": "2024-01-16T08:47:14.250742Z",
     "shell.execute_reply.started": "2024-01-16T08:47:07.320235Z"
    }
   },
   "outputs": [],
   "source": [
    "grid_ids = np.load('../data/FIRE/grid-ids--ioni_gas.npy').astype(int)\n"
   ]
  },
  {
   "cell_type": "code",
   "execution_count": 16,
   "id": "46bcc8e0-e159-4ac8-be6c-5e72af8774e7",
   "metadata": {
    "execution": {
     "iopub.execute_input": "2024-01-16T08:48:52.452480Z",
     "iopub.status.busy": "2024-01-16T08:48:52.451595Z",
     "iopub.status.idle": "2024-01-16T08:48:54.341582Z",
     "shell.execute_reply": "2024-01-16T08:48:54.311506Z",
     "shell.execute_reply.started": "2024-01-16T08:48:52.452417Z"
    }
   },
   "outputs": [
    {
     "data": {
      "text/plain": [
       "(1, 383327)"
      ]
     },
     "execution_count": 16,
     "metadata": {},
     "output_type": "execute_result"
    }
   ],
   "source": [
    "np.shape(np.where(grid_ids != indices))"
   ]
  },
  {
   "cell_type": "code",
   "execution_count": null,
   "id": "e18318c8-cffd-448c-837c-d68c907bf6e9",
   "metadata": {},
   "outputs": [],
   "source": [
    "non_empty_points = ioni_gas[\"density\"]!=0\n",
    "\n",
    "non_empty_points_reshaped = np.reshape(non_empty_points, voxel_resolution**3)\n",
    "quantity = np.reshape(ioni_gas[\"density\"], voxel_resolution**3)\n",
    "\n",
    "voronoied_result = quantity[non_empty_points_reshaped][grid_ids] / np.bincount(grid_ids)[grid_ids]\n",
    "voronoied_result = voronoied_result.reshape((voxel_resolution, voxel_resolution, voxel_resolution))"
   ]
  },
  {
   "cell_type": "code",
   "execution_count": 20,
   "id": "d79ac277-8bdf-43e4-b6cc-6233927f3d36",
   "metadata": {
    "execution": {
     "iopub.execute_input": "2024-01-12T04:48:30.047327Z",
     "iopub.status.busy": "2024-01-12T04:48:30.045907Z",
     "iopub.status.idle": "2024-01-12T04:48:30.435649Z",
     "shell.execute_reply": "2024-01-12T04:48:30.400798Z",
     "shell.execute_reply.started": "2024-01-12T04:48:30.047199Z"
    }
   },
   "outputs": [],
   "source": [
    "grid_batch_size   = 1000\n",
    "points_batch_size = 1000\n",
    "\n",
    "# Create batches\n",
    "batch_counter = np.arange(grid_batch_size, len(grid_c), grid_batch_size)\n",
    "batch_counter[-1] = len(grid_c)\n",
    "\n",
    "points_counter = np.arange(points_batch_size, len(non_empty_points), points_batch_size)\n",
    "points_counter[-1] = len(non_empty_points)\n",
    "\n",
    "# points_counter = np.array([len(non_empty_points)])\n",
    "\n",
    "grid_batch_intervals     = np.array([[0]+list(batch_counter[0:-1]),   list(batch_counter)]).transpose()\n",
    "points_counter_intervals = np.array([[0]+list(points_counter[0:-1]), list(points_counter)]).transpose()"
   ]
  },
  {
   "cell_type": "code",
   "execution_count": 21,
   "id": "5a0e4a6f-0d32-473d-9cc1-b63bbc1723e6",
   "metadata": {
    "execution": {
     "iopub.execute_input": "2024-01-12T04:48:35.165047Z",
     "iopub.status.busy": "2024-01-12T04:48:35.164604Z",
     "iopub.status.idle": "2024-01-12T04:48:46.615032Z",
     "shell.execute_reply": "2024-01-12T04:48:46.601825Z",
     "shell.execute_reply.started": "2024-01-12T04:48:35.165016Z"
    }
   },
   "outputs": [
    {
     "name": "stdout",
     "output_type": "stream",
     "text": [
      ">> calculating all batch combinations...\n",
      "CPU times: user 4.27 s, sys: 1.45 s, total: 5.72 s\n",
      "Wall time: 11.4 s\n"
     ]
    }
   ],
   "source": [
    "%%time\n",
    "print(\">> calculating all batch combinations...\")\n",
    "all_combinations = np.array(list(product(grid_batch_intervals, points_counter_intervals)))"
   ]
  },
  {
   "cell_type": "code",
   "execution_count": 22,
   "id": "a98edb4e-bba0-4f1b-a794-671c656053c7",
   "metadata": {
    "execution": {
     "iopub.execute_input": "2024-01-12T04:48:53.706690Z",
     "iopub.status.busy": "2024-01-12T04:48:53.704745Z",
     "iopub.status.idle": "2024-01-12T04:48:53.717605Z",
     "shell.execute_reply": "2024-01-12T04:48:53.715278Z",
     "shell.execute_reply.started": "2024-01-12T04:48:53.706594Z"
    }
   },
   "outputs": [
    {
     "data": {
      "text/plain": [
       "array([[[        0,      1000],\n",
       "        [        0,      1000]],\n",
       "\n",
       "       [[        0,      1000],\n",
       "        [     1000,      2000]],\n",
       "\n",
       "       [[        0,      1000],\n",
       "        [     2000,      3000]],\n",
       "\n",
       "       ...,\n",
       "\n",
       "       [[134216000, 134217728],\n",
       "        [    17000,     18000]],\n",
       "\n",
       "       [[134216000, 134217728],\n",
       "        [    18000,     19000]],\n",
       "\n",
       "       [[134216000, 134217728],\n",
       "        [    19000,     20363]]])"
      ]
     },
     "execution_count": 22,
     "metadata": {},
     "output_type": "execute_result"
    }
   ],
   "source": [
    "all_combinations"
   ]
  },
  {
   "cell_type": "code",
   "execution_count": 14,
   "id": "a1dabec2-046a-496c-975c-d710ce6191ea",
   "metadata": {
    "execution": {
     "iopub.execute_input": "2024-01-11T08:54:29.712086Z",
     "iopub.status.busy": "2024-01-11T08:54:29.710341Z",
     "iopub.status.idle": "2024-01-11T08:54:29.826649Z",
     "shell.execute_reply": "2024-01-11T08:54:29.752502Z",
     "shell.execute_reply.started": "2024-01-11T08:54:29.711867Z"
    }
   },
   "outputs": [],
   "source": [
    "from itertools import product\n",
    "import numpy as np\n",
    "from multiprocessing import Pool\n",
    "\n",
    "def generate_combinations(args):\n",
    "    grid_batch_intervals, points_counter_intervals = args\n",
    "    return np.array(list(product(grid_batch_intervals, points_counter_intervals)))\n",
    "\n",
    "\n",
    "# Define the number of processes based on your system's capabilities\n",
    "num_processes = 16\n",
    "\n",
    "# Split the workload\n",
    "chunk_size = len(grid_batch_intervals) // num_processes\n",
    "chunks = [(grid_batch_intervals[i:i+chunk_size], points_counter_intervals) for i in range(0, len(grid_batch_intervals), chunk_size)]\n",
    "\n",
    "# Use multiprocessing Pool to parallelize the combination generation\n",
    "with Pool(processes=16) as pool:\n",
    "    all_combinations = np.concatenate(pool.map(generate_combinations, chunks))"
   ]
  },
  {
   "cell_type": "code",
   "execution_count": 17,
   "id": "afe139d6-8a3b-4fa0-95e1-6b37e115e99d",
   "metadata": {
    "execution": {
     "iopub.execute_input": "2024-01-11T08:56:18.726890Z",
     "iopub.status.busy": "2024-01-11T08:56:18.725998Z",
     "iopub.status.idle": "2024-01-11T08:56:33.249320Z",
     "shell.execute_reply": "2024-01-11T08:56:33.245628Z",
     "shell.execute_reply.started": "2024-01-11T08:56:18.726795Z"
    }
   },
   "outputs": [
    {
     "ename": "TypingError",
     "evalue": "Failed in nopython mode pipeline (step: nopython frontend)\n\u001b[1m\u001b[1m\u001b[1mNo implementation of function Function(<built-in function array>) found for signature:\n \n >>> array(list(UniTuple(array(int64, 1d, A) x 2))<iv=None>)\n \nThere are 2 candidate implementations:\n\u001b[1m   - Of which 2 did not match due to:\n   Overload in function 'impl_np_array': File: numba/np/arrayobj.py: Line 5384.\n     With argument(s): '(list(UniTuple(array(int64, 1d, A) x 2))<iv=None>)':\u001b[0m\n\u001b[1m    Rejected as the implementation raised a specific error:\n      TypingError: Failed in nopython mode pipeline (step: nopython frontend)\n    \u001b[1m\u001b[1m\u001b[1mNo implementation of function Function(<intrinsic np_array>) found for signature:\n     \n     >>> np_array(list(UniTuple(array(int64, 1d, A) x 2))<iv=None>, none)\n     \n    There are 2 candidate implementations:\n    \u001b[1m      - Of which 2 did not match due to:\n          Intrinsic in function 'np_array': File: numba/np/arrayobj.py: Line 5358.\n            With argument(s): '(list(UniTuple(array(int64, 1d, A) x 2))<iv=None>, none)':\u001b[0m\n    \u001b[1m       Rejected as the implementation raised a specific error:\n             TypingError: \u001b[1marray(int64, 1d, A) not allowed in a homogeneous sequence\u001b[0m\u001b[0m\n      raised from /opt/conda/lib/python3.10/site-packages/numba/core/typing/npydecl.py:482\n    \u001b[0m\n    \u001b[0m\u001b[1mDuring: resolving callee type: Function(<intrinsic np_array>)\u001b[0m\n    \u001b[0m\u001b[1mDuring: typing of call at /opt/conda/lib/python3.10/site-packages/numba/np/arrayobj.py (5395)\n    \u001b[0m\n    \u001b[1m\n    File \"../../../../../../opt/conda/lib/python3.10/site-packages/numba/np/arrayobj.py\", line 5395:\u001b[0m\n    \u001b[1m    def impl(object, dtype=None):\n    \u001b[1m        return np_array(object, dtype)\n    \u001b[0m        \u001b[1m^\u001b[0m\u001b[0m\n\u001b[0m\n  raised from /opt/conda/lib/python3.10/site-packages/numba/core/typeinfer.py:1086\n\u001b[0m\n\u001b[0m\u001b[1mDuring: resolving callee type: Function(<built-in function array>)\u001b[0m\n\u001b[0m\u001b[1mDuring: typing of call at /tmp/ipykernel_2619/2778203102.py (12)\n\u001b[0m\n\u001b[1m\nFile \"../../../../../../tmp/ipykernel_2619/2778203102.py\", line 12:\u001b[0m\n\u001b[1m<source missing, REPL/exec in use?>\u001b[0m\n",
     "output_type": "error",
     "traceback": [
      "\u001b[0;31m---------------------------------------------------------------------------\u001b[0m",
      "\u001b[0;31mTypingError\u001b[0m                               Traceback (most recent call last)",
      "File \u001b[0;32m<timed exec>:1\u001b[0m\n",
      "File \u001b[0;32m/opt/conda/lib/python3.10/site-packages/numba/core/dispatcher.py:468\u001b[0m, in \u001b[0;36m_DispatcherBase._compile_for_args\u001b[0;34m(self, *args, **kws)\u001b[0m\n\u001b[1;32m    464\u001b[0m         msg \u001b[38;5;241m=\u001b[39m (\u001b[38;5;124mf\u001b[39m\u001b[38;5;124m\"\u001b[39m\u001b[38;5;132;01m{\u001b[39;00m\u001b[38;5;28mstr\u001b[39m(e)\u001b[38;5;241m.\u001b[39mrstrip()\u001b[38;5;132;01m}\u001b[39;00m\u001b[38;5;124m \u001b[39m\u001b[38;5;130;01m\\n\u001b[39;00m\u001b[38;5;130;01m\\n\u001b[39;00m\u001b[38;5;124mThis error may have been caused \u001b[39m\u001b[38;5;124m\"\u001b[39m\n\u001b[1;32m    465\u001b[0m                \u001b[38;5;124mf\u001b[39m\u001b[38;5;124m\"\u001b[39m\u001b[38;5;124mby the following argument(s):\u001b[39m\u001b[38;5;130;01m\\n\u001b[39;00m\u001b[38;5;132;01m{\u001b[39;00margs_str\u001b[38;5;132;01m}\u001b[39;00m\u001b[38;5;130;01m\\n\u001b[39;00m\u001b[38;5;124m\"\u001b[39m)\n\u001b[1;32m    466\u001b[0m         e\u001b[38;5;241m.\u001b[39mpatch_message(msg)\n\u001b[0;32m--> 468\u001b[0m     \u001b[43merror_rewrite\u001b[49m\u001b[43m(\u001b[49m\u001b[43me\u001b[49m\u001b[43m,\u001b[49m\u001b[43m \u001b[49m\u001b[38;5;124;43m'\u001b[39;49m\u001b[38;5;124;43mtyping\u001b[39;49m\u001b[38;5;124;43m'\u001b[39;49m\u001b[43m)\u001b[49m\n\u001b[1;32m    469\u001b[0m \u001b[38;5;28;01mexcept\u001b[39;00m errors\u001b[38;5;241m.\u001b[39mUnsupportedError \u001b[38;5;28;01mas\u001b[39;00m e:\n\u001b[1;32m    470\u001b[0m     \u001b[38;5;66;03m# Something unsupported is present in the user code, add help info\u001b[39;00m\n\u001b[1;32m    471\u001b[0m     error_rewrite(e, \u001b[38;5;124m'\u001b[39m\u001b[38;5;124munsupported_error\u001b[39m\u001b[38;5;124m'\u001b[39m)\n",
      "File \u001b[0;32m/opt/conda/lib/python3.10/site-packages/numba/core/dispatcher.py:409\u001b[0m, in \u001b[0;36m_DispatcherBase._compile_for_args.<locals>.error_rewrite\u001b[0;34m(e, issue_type)\u001b[0m\n\u001b[1;32m    407\u001b[0m     \u001b[38;5;28;01mraise\u001b[39;00m e\n\u001b[1;32m    408\u001b[0m \u001b[38;5;28;01melse\u001b[39;00m:\n\u001b[0;32m--> 409\u001b[0m     \u001b[38;5;28;01mraise\u001b[39;00m e\u001b[38;5;241m.\u001b[39mwith_traceback(\u001b[38;5;28;01mNone\u001b[39;00m)\n",
      "\u001b[0;31mTypingError\u001b[0m: Failed in nopython mode pipeline (step: nopython frontend)\n\u001b[1m\u001b[1m\u001b[1mNo implementation of function Function(<built-in function array>) found for signature:\n \n >>> array(list(UniTuple(array(int64, 1d, A) x 2))<iv=None>)\n \nThere are 2 candidate implementations:\n\u001b[1m   - Of which 2 did not match due to:\n   Overload in function 'impl_np_array': File: numba/np/arrayobj.py: Line 5384.\n     With argument(s): '(list(UniTuple(array(int64, 1d, A) x 2))<iv=None>)':\u001b[0m\n\u001b[1m    Rejected as the implementation raised a specific error:\n      TypingError: Failed in nopython mode pipeline (step: nopython frontend)\n    \u001b[1m\u001b[1m\u001b[1mNo implementation of function Function(<intrinsic np_array>) found for signature:\n     \n     >>> np_array(list(UniTuple(array(int64, 1d, A) x 2))<iv=None>, none)\n     \n    There are 2 candidate implementations:\n    \u001b[1m      - Of which 2 did not match due to:\n          Intrinsic in function 'np_array': File: numba/np/arrayobj.py: Line 5358.\n            With argument(s): '(list(UniTuple(array(int64, 1d, A) x 2))<iv=None>, none)':\u001b[0m\n    \u001b[1m       Rejected as the implementation raised a specific error:\n             TypingError: \u001b[1marray(int64, 1d, A) not allowed in a homogeneous sequence\u001b[0m\u001b[0m\n      raised from /opt/conda/lib/python3.10/site-packages/numba/core/typing/npydecl.py:482\n    \u001b[0m\n    \u001b[0m\u001b[1mDuring: resolving callee type: Function(<intrinsic np_array>)\u001b[0m\n    \u001b[0m\u001b[1mDuring: typing of call at /opt/conda/lib/python3.10/site-packages/numba/np/arrayobj.py (5395)\n    \u001b[0m\n    \u001b[1m\n    File \"../../../../../../opt/conda/lib/python3.10/site-packages/numba/np/arrayobj.py\", line 5395:\u001b[0m\n    \u001b[1m    def impl(object, dtype=None):\n    \u001b[1m        return np_array(object, dtype)\n    \u001b[0m        \u001b[1m^\u001b[0m\u001b[0m\n\u001b[0m\n  raised from /opt/conda/lib/python3.10/site-packages/numba/core/typeinfer.py:1086\n\u001b[0m\n\u001b[0m\u001b[1mDuring: resolving callee type: Function(<built-in function array>)\u001b[0m\n\u001b[0m\u001b[1mDuring: typing of call at /tmp/ipykernel_2619/2778203102.py (12)\n\u001b[0m\n\u001b[1m\nFile \"../../../../../../tmp/ipykernel_2619/2778203102.py\", line 12:\u001b[0m\n\u001b[1m<source missing, REPL/exec in use?>\u001b[0m\n"
     ]
    }
   ],
   "source": [
    "from itertools import product\n",
    "import numpy as np\n",
    "from numba import jit\n",
    "\n",
    "# Define the function and apply the @jit decorator\n",
    "@jit(nopython=True)\n",
    "def generate_combinations(grid_batch_intervals, points_counter_intervals):\n",
    "    result = []\n",
    "    for i in range(len(grid_batch_intervals)):\n",
    "        for j in range(len(points_counter_intervals)):\n",
    "            result.append((grid_batch_intervals[i], points_counter_intervals[j]))\n",
    "    return np.array(result)\n",
    "\n",
    "# Time the execution of the Numba-optimized function\n",
    "%time all_combinations = generate_combinations(grid_batch_intervals, points_counter_intervals)\n",
    "\n"
   ]
  },
  {
   "cell_type": "code",
   "execution_count": 15,
   "id": "ce6a5113-3b61-49af-8f48-b965da932821",
   "metadata": {
    "execution": {
     "iopub.execute_input": "2024-01-11T08:54:30.639438Z",
     "iopub.status.busy": "2024-01-11T08:54:30.626356Z",
     "iopub.status.idle": "2024-01-11T08:56:03.619742Z",
     "shell.execute_reply": "2024-01-11T08:56:03.601235Z",
     "shell.execute_reply.started": "2024-01-11T08:54:30.639229Z"
    }
   },
   "outputs": [
    {
     "name": "stderr",
     "output_type": "stream",
     "text": [
      "\n",
      "KeyboardInterrupt\n",
      "\n"
     ]
    }
   ],
   "source": [
    "%%time\n",
    "# Use multiprocessing Pool to parallelize the combination generation\n",
    "with Pool(processes=16) as pool:\n",
    "    all_combinations = np.concatenate(pool.map(generate_combinations, chunks))\n"
   ]
  },
  {
   "cell_type": "code",
   "execution_count": 5,
   "id": "60640438-2db6-4739-8029-6e3b612f05ae",
   "metadata": {
    "execution": {
     "iopub.execute_input": "2024-01-11T08:52:10.552247Z",
     "iopub.status.busy": "2024-01-11T08:52:10.551772Z",
     "iopub.status.idle": "2024-01-11T08:52:10.801066Z",
     "shell.execute_reply": "2024-01-11T08:52:10.733630Z",
     "shell.execute_reply.started": "2024-01-11T08:52:10.552216Z"
    }
   },
   "outputs": [
    {
     "data": {
      "text/plain": [
       "array([[[        0,      1000],\n",
       "        [        0,      1000]],\n",
       "\n",
       "       [[        0,      1000],\n",
       "        [     1000,      2000]],\n",
       "\n",
       "       [[        0,      1000],\n",
       "        [     2000,      3000]],\n",
       "\n",
       "       ...,\n",
       "\n",
       "       [[134216000, 134217728],\n",
       "        [    17000,     18000]],\n",
       "\n",
       "       [[134216000, 134217728],\n",
       "        [    18000,     19000]],\n",
       "\n",
       "       [[134216000, 134217728],\n",
       "        [    19000,     20363]]])"
      ]
     },
     "execution_count": 5,
     "metadata": {},
     "output_type": "execute_result"
    }
   ],
   "source": [
    "all_combinations"
   ]
  },
  {
   "cell_type": "code",
   "execution_count": null,
   "id": "36cbf0a9-9bd4-4bd2-a429-422b3b697e86",
   "metadata": {
    "execution": {
     "iopub.execute_input": "2024-01-11T08:49:49.314178Z",
     "iopub.status.busy": "2024-01-11T08:49:49.313511Z"
    }
   },
   "outputs": [],
   "source": [
    "all_combinations_2 = np.array(np.meshgrid(grid_batch_intervals[:, 0], points_counter_intervals[:, 0],\n",
    "                              grid_batch_intervals[:, 1], points_counter_intervals[:, 1])).T.reshape(-1, 2, 2)\n"
   ]
  },
  {
   "cell_type": "code",
   "execution_count": 14,
   "id": "d83ca26a-ede8-467e-b361-db3fd46858fb",
   "metadata": {
    "execution": {
     "iopub.execute_input": "2024-01-11T08:47:48.917888Z",
     "iopub.status.busy": "2024-01-11T08:47:48.916128Z",
     "iopub.status.idle": "2024-01-11T08:47:49.018871Z",
     "shell.execute_reply": "2024-01-11T08:47:49.015715Z",
     "shell.execute_reply.started": "2024-01-11T08:47:48.917725Z"
    }
   },
   "outputs": [
    {
     "data": {
      "text/plain": [
       "(20, 2)"
      ]
     },
     "execution_count": 14,
     "metadata": {},
     "output_type": "execute_result"
    }
   ],
   "source": [
    "np.shape(points_counter_intervals)"
   ]
  },
  {
   "cell_type": "code",
   "execution_count": 12,
   "id": "0e02e688-ec1b-4551-bfbb-8b9e9c6e8374",
   "metadata": {
    "execution": {
     "iopub.execute_input": "2024-01-11T08:46:53.443717Z",
     "iopub.status.busy": "2024-01-11T08:46:53.442576Z",
     "iopub.status.idle": "2024-01-11T08:46:53.627668Z",
     "shell.execute_reply": "2024-01-11T08:46:53.615004Z",
     "shell.execute_reply.started": "2024-01-11T08:46:53.443614Z"
    }
   },
   "outputs": [
    {
     "data": {
      "text/plain": [
       "array([   0, 1000])"
      ]
     },
     "execution_count": 12,
     "metadata": {},
     "output_type": "execute_result"
    }
   ],
   "source": [
    "all_combinations_2[1]"
   ]
  },
  {
   "cell_type": "code",
   "execution_count": 33,
   "id": "7b310061-21b8-4fe9-ada7-cc3c7e92e37a",
   "metadata": {
    "execution": {
     "iopub.execute_input": "2024-01-11T08:31:50.536166Z",
     "iopub.status.busy": "2024-01-11T08:31:50.535113Z",
     "iopub.status.idle": "2024-01-11T08:31:50.644178Z",
     "shell.execute_reply": "2024-01-11T08:31:50.630566Z",
     "shell.execute_reply.started": "2024-01-11T08:31:50.536076Z"
    }
   },
   "outputs": [
    {
     "data": {
      "text/plain": [
       "array([[134200000, 134217728],\n",
       "       [    10000,     20363]])"
      ]
     },
     "execution_count": 33,
     "metadata": {},
     "output_type": "execute_result"
    }
   ],
   "source": [
    "# len(non_empty_points)\n",
    "\n",
    "len(all_combinations)\n",
    "all_combinations[len(all_combinations)-1]"
   ]
  },
  {
   "cell_type": "code",
   "execution_count": 43,
   "id": "280d4847-1a83-40b3-894f-7898fc8237bb",
   "metadata": {
    "execution": {
     "iopub.execute_input": "2024-01-11T08:36:55.242933Z",
     "iopub.status.busy": "2024-01-11T08:36:55.241722Z",
     "iopub.status.idle": "2024-01-11T08:36:56.033748Z",
     "shell.execute_reply": "2024-01-11T08:36:55.844132Z",
     "shell.execute_reply.started": "2024-01-11T08:36:55.242847Z"
    }
   },
   "outputs": [
    {
     "name": "stdout",
     "output_type": "stream",
     "text": [
      ">> 44.198% \t [86000 - 87000] \t [8000 - 9000]]]\r"
     ]
    },
    {
     "data": {
      "text/plain": [
       "array([[   0, 1000],\n",
       "       [   0, 1000]])"
      ]
     },
     "execution_count": 43,
     "metadata": {},
     "output_type": "execute_result"
    },
    {
     "name": "stdout",
     "output_type": "stream",
     "text": [
      ">> 29.465% \t [87000 - 88000] \t [5000 - 6000]]]\r"
     ]
    }
   ],
   "source": [
    "all_combinations[0]"
   ]
  },
  {
   "cell_type": "code",
   "execution_count": 6,
   "id": "c3492744-c5a6-401f-a40c-47fb51864599",
   "metadata": {
    "execution": {
     "iopub.execute_input": "2024-01-10T08:36:17.718512Z",
     "iopub.status.busy": "2024-01-10T08:36:17.716828Z",
     "iopub.status.idle": "2024-01-10T08:36:43.520926Z",
     "shell.execute_reply": "2024-01-10T08:36:43.514654Z",
     "shell.execute_reply.started": "2024-01-10T08:36:17.718343Z"
    }
   },
   "outputs": [
    {
     "name": "stdout",
     "output_type": "stream",
     "text": [
      "===> [[    0 10000]\n",
      " [    0 10000]]\n",
      "===> [[    0 10000]\n",
      " [10000 20000]]\n",
      "===> [[    0 10000]\n",
      " [20000 30000]]\n",
      "===> [[    0 10000]\n",
      " [30000 40000]]\n",
      "===> [[    0 10000]\n",
      " [40000 50000]]\n",
      "===> [[    0 10000]\n",
      " [50000 60000]]\n",
      "===> [[    0 10000]\n",
      " [60000 70000]]\n",
      "===> [[    0 10000]\n",
      " [70000 80000]]\n"
     ]
    },
    {
     "name": "stderr",
     "output_type": "stream",
     "text": [
      "\n",
      "KeyboardInterrupt\n",
      "\n"
     ]
    }
   ],
   "source": [
    "# without multithreading\n",
    "for indexes in all_combinations:\n",
    "    process_interval(indexes)"
   ]
  },
  {
   "cell_type": "code",
   "execution_count": null,
   "id": "e45245f9-960f-4b03-b68b-cc5e10030621",
   "metadata": {
    "execution": {
     "iopub.execute_input": "2024-01-11T08:36:11.127716Z",
     "iopub.status.busy": "2024-01-11T08:36:11.126783Z",
     "iopub.status.idle": "2024-01-11T08:36:51.106869Z"
    }
   },
   "outputs": [
    {
     "name": "stdout",
     "output_type": "stream",
     "text": [
      ">> 83.485% \t [77000 - 78000] \t [16000 - 17000] 34.376% \t [62000 - 63000] \t [6000 - 7000]000]>> 100.0% \t [23000 - 24000] \t [19000 - 20363]\r"
     ]
    },
    {
     "name": "stderr",
     "output_type": "stream",
     "text": [
      "\n",
      "KeyboardInterrupt\n",
      "\n"
     ]
    },
    {
     "name": "stdout",
     "output_type": "stream",
     "text": [
      ">> 88.396% \t [77000 - 78000] \t [17000 - 18000]\r"
     ]
    }
   ],
   "source": [
    "# with multithreading\n",
    "print(f\"grid batch max: {len(grid_c)} \\t points batch max: {non_empty_points_length}\")\n",
    "\n",
    "with ThreadPoolExecutor() as executor:\n",
    "    futures = {executor.submit(process_interval, indexes): indexes\n",
    "               for indexes in all_combinations}"
   ]
  },
  {
   "cell_type": "code",
   "execution_count": 14,
   "id": "0e1ab209-c576-46f9-b97b-5cbb30ab3d19",
   "metadata": {
    "execution": {
     "iopub.execute_input": "2024-01-11T08:27:06.325482Z",
     "iopub.status.busy": "2024-01-11T08:27:06.324585Z",
     "iopub.status.idle": "2024-01-11T08:27:06.645989Z",
     "shell.execute_reply": "2024-01-11T08:27:06.633452Z",
     "shell.execute_reply.started": "2024-01-11T08:27:06.325423Z"
    }
   },
   "outputs": [
    {
     "data": {
      "text/plain": [
       "array([    0, 10000])"
      ]
     },
     "execution_count": 14,
     "metadata": {},
     "output_type": "execute_result"
    }
   ],
   "source": [
    "all_combinations[0][0]"
   ]
  },
  {
   "cell_type": "code",
   "execution_count": 34,
   "id": "c61b1d00-60b6-44a7-bd85-a5af2ab2a495",
   "metadata": {
    "execution": {
     "iopub.execute_input": "2024-01-10T08:21:29.314616Z",
     "iopub.status.busy": "2024-01-10T08:21:29.313455Z",
     "iopub.status.idle": "2024-01-10T08:21:29.551632Z",
     "shell.execute_reply": "2024-01-10T08:21:29.500649Z",
     "shell.execute_reply.started": "2024-01-10T08:21:29.314526Z"
    }
   },
   "outputs": [
    {
     "data": {
      "text/plain": [
       "array([[[     0,  10000],\n",
       "        [     0,  30000]],\n",
       "\n",
       "       [[     0,  10000],\n",
       "        [ 30000,  60000]],\n",
       "\n",
       "       [[     0,  10000],\n",
       "        [ 60000,  90000]],\n",
       "\n",
       "       [[     0,  10000],\n",
       "        [ 90000, 120000]],\n",
       "\n",
       "       [[     0,  10000],\n",
       "        [120000, 150000]],\n",
       "\n",
       "       [[     0,  10000],\n",
       "        [150000, 180000]],\n",
       "\n",
       "       [[     0,  10000],\n",
       "        [180000, 210000]],\n",
       "\n",
       "       [[     0,  10000],\n",
       "        [210000, 240000]],\n",
       "\n",
       "       [[     0,  10000],\n",
       "        [240000, 270000]],\n",
       "\n",
       "       [[     0,  10000],\n",
       "        [270000, 300000]]])"
      ]
     },
     "execution_count": 34,
     "metadata": {},
     "output_type": "execute_result"
    }
   ],
   "source": [
    "all_combinations[0:10]"
   ]
  },
  {
   "cell_type": "code",
   "execution_count": 11,
   "id": "717611b9-c5e2-4b2f-afef-e2117d612df3",
   "metadata": {
    "execution": {
     "iopub.execute_input": "2024-01-10T08:38:43.829513Z",
     "iopub.status.busy": "2024-01-10T08:38:43.828838Z",
     "iopub.status.idle": "2024-01-10T08:38:45.428624Z",
     "shell.execute_reply": "2024-01-10T08:38:44.947690Z",
     "shell.execute_reply.started": "2024-01-10T08:38:43.829475Z"
    }
   },
   "outputs": [
    {
     "name": "stdout",
     "output_type": "stream",
     "text": [
      "===> [[      0   10000]\n",
      " [1810000 1820000]]\n"
     ]
    },
    {
     "data": {
      "text/plain": [
       "array([[-9.98046875, -9.98046875, -9.98046875],\n",
       "       [-9.98046875, -9.98046875, -9.94140625],\n",
       "       [-9.98046875, -9.98046875, -9.90234375],\n",
       "       ...,\n",
       "       [ 9.98046875,  9.98046875,  9.90234375],\n",
       "       [ 9.98046875,  9.98046875,  9.94140625],\n",
       "       [ 9.98046875,  9.98046875,  9.98046875]])"
      ]
     },
     "execution_count": 11,
     "metadata": {},
     "output_type": "execute_result"
    },
    {
     "name": "stdout",
     "output_type": "stream",
     "text": [
      "===> [[      0   10000]\n",
      " [1820000 1830000]]\n",
      "===> [[      0   10000]\n",
      " [1830000 1840000]]\n",
      "===> [[      0   10000]\n",
      " [1840000 1850000]]\n",
      "===> [[      0   10000]\n",
      " [1850000 1860000]]\n",
      "===> [[      0   10000]\n",
      " [1860000 1870000]]\n"
     ]
    }
   ],
   "source": [
    "grid_c"
   ]
  },
  {
   "cell_type": "code",
   "execution_count": null,
   "id": "1753b983-7eff-4d57-b354-c7b723becc78",
   "metadata": {
    "execution": {
     "iopub.execute_input": "2024-01-10T08:38:01.013228Z",
     "iopub.status.busy": "2024-01-10T08:38:00.713454Z",
     "iopub.status.idle": "2024-01-10T08:38:26.645639Z"
    }
   },
   "outputs": [
    {
     "name": "stdout",
     "output_type": "stream",
     "text": [
      "===>===> [[     0  10000]\n",
      " [900000 910000]]\n",
      "===> [[     0  10000]\n",
      " [910000 920000]]\n",
      "===> [[     0  10000]\n",
      " [920000 930000]]\n",
      "===> [[     0  10000]\n",
      " [930000 940000]]\n",
      "===> [[     0  10000]\n",
      " [940000 950000]]\n",
      "===> [[     0  10000]\n",
      " [950000 960000]]\n",
      "===> [[     0  10000]\n",
      " [960000 970000]]\n",
      "===> [[     0  10000]\n",
      " [970000 980000]]\n",
      "===> [[     0  10000]\n",
      " [980000 990000]]\n",
      "===> [[      0   10000]\n",
      " [ 990000 1000000]]\n",
      "===> [[      0   10000]\n",
      " [1000000 1010000]]\n",
      "===> [[      0   10000]\n",
      " [1010000 1020000]]\n",
      "===> [[      0   10000]\n",
      " [1020000 1030000]]\n",
      "===> [[      0   10000]\n",
      " [1030000 1040000]]\n",
      "===> [[      0   10000]\n",
      " [1040000 1050000]]\n",
      "===> [[      0   10000]\n",
      " [1050000 1060000]]\n",
      "===> [[    0 10000]\n",
      " [    0 10000]]\n",
      "===> [[    0 10000]\n",
      " [10000 20000]]\n",
      "===> [[    0 10000]\n",
      " [20000 30000]]\n",
      "===> [[    0 10000]\n",
      " [30000 40000]]\n",
      "===> [[      0   10000]\n",
      " [1060000 1070000]]\n",
      "===> [[    0 10000]\n",
      " [40000 50000]]\n",
      "===> [[      0   10000]\n",
      " [1070000 1080000]]\n",
      "===> [[      0   10000]\n",
      " [1080000 1090000]]\n",
      "===> [[    0 10000]\n",
      " [50000 60000]]\n",
      "===> [[    0 10000]\n",
      " [60000 70000]]\n",
      "===> [[    0 10000]\n",
      " [70000 80000]]\n",
      "===> [[      0   10000]\n",
      " [1090000 1100000]]\n",
      "===> [[    0 10000]\n",
      " [80000 90000]]\n",
      "===> [[      0   10000]\n",
      " [1100000 1110000]]\n",
      "===> [[     0  10000]\n",
      " [ 90000 100000]]\n",
      "===> [[     0  10000]\n",
      " [100000 110000]]\n",
      "===>===> [[     0  10000]\n",
      " [110000 120000]]\n",
      " [[      0   10000]\n",
      " [1110000 1120000]]\n",
      "===> [[      0   10000]\n",
      " [1120000 1130000]]\n",
      "===> [[     0  10000]\n",
      " [120000 130000]]\n",
      "===> [[      0   10000]\n",
      " [1130000 1140000]]\n",
      "===> [[     0  10000]\n",
      " [130000 140000]]\n",
      "===> [[      0   10000]\n",
      " [1140000 1150000]]\n",
      "===> [[      0   10000]\n",
      " [1150000 1160000]]\n",
      "===> [[     0  10000]\n",
      " [140000 150000]]\n",
      "===> [[     0  10000]\n",
      " [150000 160000]]\n",
      "===> [[      0   10000]\n",
      " [1160000 1170000]]\n",
      "===> [[     0  10000]\n",
      " [160000 170000]]\n",
      "===> [[      0   10000]\n",
      " [1170000 1180000]]\n",
      "===> [[     0  10000]\n",
      " [170000 180000]]\n",
      "===> [[     0  10000]\n",
      " [180000 190000]]\n",
      "===> [[     0  10000]\n",
      " [190000 200000]]\n",
      "===> [[      0   10000]\n",
      " [1180000 1190000]]\n",
      "===> [[      0   10000]\n",
      " [1190000 1200000]]\n",
      "===> [[      0   10000]\n",
      " [1200000 1210000]]\n",
      "===> [[     0  10000]\n",
      " [200000 210000]]\n",
      "===> [[     0  10000]\n",
      " [210000 220000]]\n",
      "===> [[      0   10000]\n",
      " [1210000 1220000]]\n",
      "===> [[     0  10000]\n",
      " [220000 230000]]\n",
      "===>===> [[     0  10000]\n",
      " [230000 240000]]\n",
      "===> [[      0   10000]\n",
      " [1230000 1240000]]\n",
      " [[      0   10000]\n",
      " [1220000 1230000]]\n",
      "===> [[      0   10000]\n",
      " [1240000 1250000]]\n",
      "===> [[      0   10000]\n",
      " [1250000 1260000]]\n",
      "===> [[      0   10000]\n",
      " [1260000 1270000]]\n",
      "===> [[      0   10000]\n",
      " [1270000 1280000]]\n",
      "===>===> [[     0  10000]\n",
      " [240000 250000]]\n",
      "===> [[      0   10000]\n",
      " [1290000 1300000]]\n",
      "===> [[      0   10000]\n",
      " [1300000 1310000]]\n",
      "===> [[     0  10000]\n",
      " [250000 260000]]\n",
      "===> [[      0   10000]\n",
      " [1310000 1320000]]\n",
      "===> [[      0   10000]\n",
      " [1320000 1330000]]\n",
      "===> [[      0   10000]\n",
      " [1330000 1340000]]\n",
      "===> [[     0  10000]\n",
      " [260000 270000]]\n",
      "===> [[      0   10000]\n",
      " [1340000 1350000]]\n",
      "===> [[      0   10000]\n",
      " [1350000 1360000]]\n",
      "===> [[      0   10000]\n",
      " [1360000 1370000]]\n"
     ]
    },
    {
     "name": "stderr",
     "output_type": "stream",
     "text": [
      "\n",
      "KeyboardInterrupt\n",
      "\n"
     ]
    }
   ],
   "source": [
    "# Process batches concurrently\n",
    "with ThreadPoolExecutor() as executor:\n",
    "    futures = {executor.submit(process_interval, indexes): indexes\n",
    "               for indexes in all_combinations}\n",
    "\n",
    "    for future in concurrent.futures.as_completed(futures):\n",
    "        indexes = futures[future]\n",
    "        print(f\"Working on batch {indexes}\", end=\"\\r\")\n",
    "        # print(f\"Processed interval [{interval_min}:{interval_max}]\")\n",
    "\n",
    "\n",
    "# np.save(location_save_grid_ids, grid_ids)\n"
   ]
  },
  {
   "cell_type": "code",
   "execution_count": 41,
   "id": "82f06a41-decd-41d0-b3f3-d8e96d122824",
   "metadata": {
    "execution": {
     "iopub.execute_input": "2024-01-10T08:26:11.140155Z",
     "iopub.status.busy": "2024-01-10T08:26:11.139389Z",
     "iopub.status.idle": "2024-01-10T08:26:37.128533Z",
     "shell.execute_reply": "2024-01-10T08:26:37.046571Z",
     "shell.execute_reply.started": "2024-01-10T08:26:11.140104Z"
    }
   },
   "outputs": [],
   "source": [
    "process_interval(indexes)"
   ]
  },
  {
   "cell_type": "code",
   "execution_count": 44,
   "id": "d279e5b9-df77-4c31-aa09-7cf30353f0a0",
   "metadata": {
    "execution": {
     "iopub.execute_input": "2024-01-10T08:27:22.926798Z",
     "iopub.status.busy": "2024-01-10T08:27:22.925786Z",
     "iopub.status.idle": "2024-01-10T08:27:23.234665Z",
     "shell.execute_reply": "2024-01-10T08:27:23.142023Z",
     "shell.execute_reply.started": "2024-01-10T08:27:22.926732Z"
    }
   },
   "outputs": [
    {
     "data": {
      "text/plain": [
       "array([             4,              4,              4, ...,\n",
       "                    4,              4, 10240000000000])"
      ]
     },
     "execution_count": 44,
     "metadata": {},
     "output_type": "execute_result"
    }
   ],
   "source": [
    "current_min_distances[0:10001]"
   ]
  },
  {
   "cell_type": "code",
   "execution_count": 38,
   "id": "469f4a50-d4c6-4220-8671-e010dc321970",
   "metadata": {
    "execution": {
     "iopub.execute_input": "2024-01-10T08:24:11.011969Z",
     "iopub.status.busy": "2024-01-10T08:24:11.010857Z",
     "iopub.status.idle": "2024-01-10T08:24:30.816773Z",
     "shell.execute_reply": "2024-01-10T08:24:30.728624Z",
     "shell.execute_reply.started": "2024-01-10T08:24:11.011899Z"
    }
   },
   "outputs": [],
   "source": [
    "with ThreadPoolExecutor() as executor:\n",
    "    future = executor.submit(process_interval, indexes)\n",
    "    # print(future.result())"
   ]
  },
  {
   "cell_type": "code",
   "execution_count": 59,
   "id": "0b27a796-1ccd-4b6d-8b10-793c22d8e977",
   "metadata": {
    "execution": {
     "iopub.execute_input": "2024-01-10T08:03:32.038164Z",
     "iopub.status.busy": "2024-01-10T08:03:32.037104Z",
     "iopub.status.idle": "2024-01-10T08:03:32.148555Z",
     "shell.execute_reply": "2024-01-10T08:03:32.133498Z",
     "shell.execute_reply.started": "2024-01-10T08:03:32.038087Z"
    }
   },
   "outputs": [],
   "source": [
    "# list(product(grid_batch_intervals, points_counter_intervals))"
   ]
  },
  {
   "cell_type": "code",
   "execution_count": 4,
   "id": "de14be43-71c7-44f5-ab3b-7a22d610a928",
   "metadata": {
    "execution": {
     "iopub.execute_input": "2024-01-08T23:13:11.113056Z",
     "iopub.status.busy": "2024-01-08T23:13:11.112189Z",
     "iopub.status.idle": "2024-01-08T23:13:11.153995Z",
     "shell.execute_reply": "2024-01-08T23:13:11.152272Z",
     "shell.execute_reply.started": "2024-01-08T23:13:11.112984Z"
    }
   },
   "outputs": [],
   "source": [
    "# Parameters\n",
    "batch_size = 100\n",
    "\n",
    "# Function to calculate distances and update grid_ids for a given interval\n",
    "def process_interval(start, end):\n",
    "    grid_ids[start:end] = np.argmin(distance.cdist(grid_c[start:end], non_empty_points), axis=1)\n",
    "\n",
    "# Create an array to store grid_ids\n",
    "grid_ids = np.empty(len(grid_c), dtype=int)\n",
    "\n",
    "# Create batches\n",
    "batch_counter = np.arange(batch_size, len(grid_c), batch_size)\n",
    "batch_counter[-1] = len(grid_c)"
   ]
  },
  {
   "cell_type": "code",
   "execution_count": 18,
   "id": "8fcd2b19-3617-4933-a624-d5e944d76a28",
   "metadata": {
    "execution": {
     "iopub.execute_input": "2024-01-08T23:21:57.846928Z",
     "iopub.status.busy": "2024-01-08T23:21:57.845946Z",
     "iopub.status.idle": "2024-01-08T23:21:57.925057Z",
     "shell.execute_reply": "2024-01-08T23:21:57.919501Z",
     "shell.execute_reply.started": "2024-01-08T23:21:57.846826Z"
    }
   },
   "outputs": [
    {
     "data": {
      "text/plain": [
       "array([7, 7, 7, 7, 7, 7, 7, 7, 7, 7, 7, 7, 7, 7, 7, 7, 7, 7, 7, 7, 7, 7,\n",
       "       7, 7, 7, 7, 7, 7, 7, 7, 7, 7, 7, 7, 7, 7, 7, 7, 7, 7, 7, 7, 7, 7,\n",
       "       7, 7, 7, 7, 7, 7, 7, 7, 7, 7, 7, 7, 4, 4, 4, 4, 4, 4, 4, 4, 4, 4,\n",
       "       4, 4, 4, 4, 4, 4, 4, 4, 4, 4, 4, 4, 4, 4, 4, 4, 4, 4, 4, 4, 4, 4,\n",
       "       4, 4, 4, 4, 4, 4, 4, 4, 4, 4, 4, 4])"
      ]
     },
     "execution_count": 18,
     "metadata": {},
     "output_type": "execute_result"
    }
   ],
   "source": [
    "\n",
    "\n",
    "np.argmin(distance.cdist(grid_c[start:end], non_empty_points[9:20]), axis=1)"
   ]
  },
  {
   "cell_type": "code",
   "execution_count": 12,
   "id": "691092c3-5350-4235-b3f4-39d8af1f15c1",
   "metadata": {
    "execution": {
     "iopub.execute_input": "2024-01-08T23:15:39.714336Z",
     "iopub.status.busy": "2024-01-08T23:15:39.713482Z",
     "iopub.status.idle": "2024-01-08T23:15:39.810566Z",
     "shell.execute_reply": "2024-01-08T23:15:39.808250Z",
     "shell.execute_reply.started": "2024-01-08T23:15:39.714264Z"
    }
   },
   "outputs": [],
   "source": [
    "# for interval_min, interval_max in zip([0] + list(batch_counter), batch_counter):\n",
    "#     print(interval_min, interval_max)"
   ]
  },
  {
   "cell_type": "code",
   "execution_count": null,
   "id": "a6c4899e-1117-4027-bd7f-59060d6c39a3",
   "metadata": {},
   "outputs": [],
   "source": [
    "\n",
    "\n",
    "# Process batches concurrently\n",
    "with ThreadPoolExecutor() as executor:\n",
    "    futures = {executor.submit(process_interval, interval_min, interval_max): (interval_min, interval_max)\n",
    "               for interval_min, interval_max in zip([0] + list(batch_counter), batch_counter)}\n",
    "\n",
    "    for future in concurrent.futures.as_completed(futures):\n",
    "        interval_min, interval_max = futures[future]\n",
    "        print(f\"Working on batch [{interval_min}-{interval_max}] out of {len(grid_c)}, so {interval_max/len(grid_c)*100}% done.\", end=\"\\r\")\n",
    "        # print(f\"Processed interval [{interval_min}:{interval_max}]\")\n",
    "\n",
    "\n",
    "np.save(location_save_grid_ids, grid_ids)\n"
   ]
  }
 ],
 "metadata": {
  "kernelspec": {
   "display_name": "Python 3 (ipykernel)",
   "language": "python",
   "name": "python3"
  },
  "language_info": {
   "codemirror_mode": {
    "name": "ipython",
    "version": 3
   },
   "file_extension": ".py",
   "mimetype": "text/x-python",
   "name": "python",
   "nbconvert_exporter": "python",
   "pygments_lexer": "ipython3",
   "version": "3.10.13"
  }
 },
 "nbformat": 4,
 "nbformat_minor": 5
}
